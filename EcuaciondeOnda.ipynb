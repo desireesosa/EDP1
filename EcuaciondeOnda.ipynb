{
  "nbformat": 4,
  "nbformat_minor": 0,
  "metadata": {
    "colab": {
      "provenance": [],
      "authorship_tag": "ABX9TyO6zlzfv+FNWhzEicDlS84+",
      "include_colab_link": true
    },
    "kernelspec": {
      "name": "python3",
      "display_name": "Python 3"
    },
    "language_info": {
      "name": "python"
    }
  },
  "cells": [
    {
      "cell_type": "markdown",
      "metadata": {
        "id": "view-in-github",
        "colab_type": "text"
      },
      "source": [
        "<a href=\"https://colab.research.google.com/github/desireesosa/EDP1/blob/main/EcuaciondeOnda.ipynb\" target=\"_parent\"><img src=\"https://colab.research.google.com/assets/colab-badge.svg\" alt=\"Open In Colab\"/></a>"
      ]
    },
    {
      "cell_type": "markdown",
      "source": [
        "**Ecuación de Onda** \\\\\n",
        "*Elaborar la solución completa de la ecuación de onda del Ejemplo 1 visto en clase. Elegir parámetros adecuados para k, c y L.* \\\\\n",
        "\n",
        "**Ejercicio:** \\\\\n",
        "Cuerda vibrante con deflexion inicial triangular: \\\\\n",
        "\n",
        "$ f(x) = \\left\\{\n",
        "\\begin{array}{l}\n",
        "      \\frac{2K}{L}*X &  0<x<\\frac{1}{2} \\\\\n",
        "      \\\\\n",
        "      \\frac{2K}{L}(L-X) & \\frac{L}{2}<x<L \\\\\n",
        "\\end{array}\n",
        "\\right.$\n",
        "\n",
        "$g(x)=0$\n",
        "\n",
        "Eligiendo parmetros adecuados para $K, L, C$"
      ],
      "metadata": {
        "id": "G4eiDkm4O81k"
      }
    },
    {
      "cell_type": "code",
      "execution_count": 1,
      "metadata": {
        "id": "o6ObMp6kO0pP"
      },
      "outputs": [],
      "source": [
        "#Programa que elabore la solucion completa de la ecuacion de onda del ejercicio.\n",
        "import numpy as np\n",
        "import matplotlib.pyplot as plt\n",
        "from matplotlib.animation import FuncAnimation\n",
        "\n",
        "#Parametros de k,l,c\n",
        "L = 1.0  # Longitud de la cuerda\n",
        "c = 1.0  # Velocidad de propagación\n",
        "K = 1.0  # Altura máxima de la deflexión inicial\n",
        "\n",
        "terms=100 #terminos de serie"
      ]
    },
    {
      "cell_type": "markdown",
      "source": [
        "*Definimos a la funcion:*"
      ],
      "metadata": {
        "id": "AxiTUxesRgFu"
      }
    },
    {
      "cell_type": "code",
      "source": [
        "def f(x):\n",
        "    if 0 < x < L / 2:\n",
        "        return (2 * K / L) * x\n",
        "    elif L / 2 < x < L:\n",
        "        return (2 * K / L) * (L - x)\n",
        "    else:\n",
        "        return 0\n",
        "\n",
        "#Coeficientes de fourier en f(x)\n",
        "def A_n(n):\n",
        "  if n % 2 == 0:\n",
        "    return 0\n",
        "  else:\n",
        "    return (8/(n*np.pi)**2)*(-1)**((n-1)//2)"
      ],
      "metadata": {
        "id": "h4r-mz45Rl70"
      },
      "execution_count": 43,
      "outputs": []
    },
    {
      "cell_type": "markdown",
      "source": [
        "*Solucion de la ecuacion de onda*"
      ],
      "metadata": {
        "id": "89l9_fYVTUzd"
      }
    },
    {
      "cell_type": "code",
      "source": [
        "def u(x, t):\n",
        "    result = 0\n",
        "    for n in range(1, terms + 1):\n",
        "        result += a_n[n - 1] * np.sin(n * np.pi * x / L) * np.cos(n * np.pi * c * t / L)\n",
        "    return result"
      ],
      "metadata": {
        "id": "3ye0aYRFTX7A"
      },
      "execution_count": 44,
      "outputs": []
    },
    {
      "cell_type": "markdown",
      "source": [
        "*Creando malla de puntos*"
      ],
      "metadata": {
        "id": "wgRKEEdlVcvp"
      }
    },
    {
      "cell_type": "code",
      "source": [
        "x = np.linspace(0, L, 100)\n",
        "t = np.linspace(0, 2 * L / c, 50)  # Tiempo hasta que la onda regresa al inicio\n",
        "\n",
        "# Calcular la solución para cada punto de la malla\n",
        "U = np.zeros((len(t),len(x)))\n",
        "\n",
        "for i, t_val in enumerate(t):\n",
        "  for j, x_val in enumerate(x):\n",
        "    U[i, j] = u(x_val, t_val)"
      ],
      "metadata": {
        "id": "GGHyoOfYVcBd"
      },
      "execution_count": 45,
      "outputs": []
    },
    {
      "cell_type": "markdown",
      "source": [
        "*Visualizacion:*"
      ],
      "metadata": {
        "id": "JqCkuy9MVnzo"
      }
    },
    {
      "cell_type": "code",
      "source": [
        "fig, ax = plt.subplots()\n",
        "line, = ax.plot(x, U[0,:])\n",
        "ax.set_ylim(-0.12,0.12)\n",
        "ax.set_xlabel('x')\n",
        "ax.set_ylabel('u(x, t)')\n",
        "ax.set_title('Solución de la Ecuación de Onda')\n",
        "\n",
        "def animate(i):\n",
        "    line.set_ydata(U[i,:])\n",
        "    return line,\n",
        "\n",
        "ani = FuncAnimation(fig, animate, frames=len(t), interval=100, blit=True)\n",
        "\n",
        "y_min, y_max = np.min(U), np.max(U)\n",
        "ax.set_ylim(y_min - 0.05, y_max + 0.05)\n",
        "\n",
        "plt.show()"
      ],
      "metadata": {
        "colab": {
          "base_uri": "https://localhost:8080/",
          "height": 472
        },
        "id": "uJ7b-XXPVsCD",
        "outputId": "0322751a-c810-4a37-eada-bad0bf8da473"
      },
      "execution_count": 50,
      "outputs": [
        {
          "output_type": "display_data",
          "data": {
            "text/plain": [
              "<Figure size 640x480 with 1 Axes>"
            ],
            "image/png": "[encoded data removed]"
          },
          "metadata": {}
        }
      ]
    },
    {
      "cell_type": "markdown",
      "source": [
        "*Imprimiendo resultados*"
      ],
      "metadata": {
        "id": "pJB7kHsyYpjq"
      }
    },
    {
      "cell_type": "code",
      "source": [
        "print(\"Solucion analitica de la ecuacion de onda:\")\n",
        "print(\"Los primeros 3 terminos NO nulos.\")\n",
        "for n in [1,3,5]:\n",
        "  coeficiente=A_n(n)\n",
        "  print(f\"a_{n} = {A_n(n)}\")\n",
        "print(\"Los primeros 3 terminos nulos.\")\n",
        "for n in [2,4,6]:\n",
        "  coeficiente=A_n(n)\n",
        "  print(f\"a_{n} = {A_n(n)}\")"
      ],
      "metadata": {
        "colab": {
          "base_uri": "https://localhost:8080/"
        },
        "id": "DJMt29RNYtMN",
        "outputId": "c940d8ee-1edc-438c-8208-4e0d781b92cc"
      },
      "execution_count": 49,
      "outputs": [
        {
          "output_type": "stream",
          "name": "stdout",
          "text": [
            "Solucion analitica de la ecuacion de onda:\n",
            "Los primeros 3 terminos NO nulos.\n",
            "a_1 = 0.8105694691387022\n",
            "a_3 = -0.09006327434874468\n",
            "a_5 = 0.03242277876554809\n",
            "Los primeros 3 terminos nulos.\n",
            "a_2 = 0\n",
            "a_4 = 0\n",
            "a_6 = 0\n"
          ]
        }
      ]
    }
  ]
}