{
  "nbformat": 4,
  "nbformat_minor": 0,
  "metadata": {
    "colab": {
      "provenance": [],
      "authorship_tag": "ABX9TyN5wqGJcadTJfXZAJZ9Nzhd",
      "include_colab_link": true
    },
    "kernelspec": {
      "name": "python3",
      "display_name": "Python 3"
    },
    "language_info": {
      "name": "python"
    }
  },
  "cells": [
    {
      "cell_type": "markdown",
      "metadata": {
        "id": "view-in-github",
        "colab_type": "text"
      },
      "source": [
        "<a href=\"https://colab.research.google.com/github/desireesosa/EDP1/blob/main/Series_de_Fourier_Generalizadas.ipynb\" target=\"_parent\"><img src=\"https://colab.research.google.com/assets/colab-badge.svg\" alt=\"Open In Colab\"/></a>"
      ]
    },
    {
      "cell_type": "markdown",
      "source": [
        "**Series de Fourier Generalizadas** \\\\\n",
        "*Resolver con ayuda de la libreria sympy, escribir los pasos esenciales, comentar y documentar.*\n",
        "\n",
        "Realizar lo que se solicita:\n",
        "\n",
        "\n",
        "1.   Verifica que el siguiete es un problema de Sturm-Liouville y resolverlo. \\\\\n",
        "$f''(x)+2f'(x)+λf(x)=0$ con $0<x<1$\n",
        "2.   Usar las eigenfunciones de este problema para expandir en series de Fourier generalizadas la funcion: \\\\\n",
        "$u(x)=e^{-x}$, $0≤x≤1$\n"
      ],
      "metadata": {
        "id": "1wCt6od-FTmJ"
      }
    },
    {
      "cell_type": "code",
      "execution_count": null,
      "metadata": {
        "id": "iBhSCGOOFPDa"
      },
      "outputs": [],
      "source": [
        "#Empezando a programar con la libreria sympy\n",
        "import sympy as sp\n",
        "import numpy as np\n",
        "import matplotlib.pyplot as plt"
      ]
    },
    {
      "cell_type": "markdown",
      "source": [
        "*tomando a la funcion para verificar si es un problema de Sturm-Liouville*"
      ],
      "metadata": {
        "id": "e-Jn2gmjI2a3"
      }
    },
    {
      "cell_type": "code",
      "source": [
        "x=sp.symbols('x')\n",
        "lamda=sp.symbols('lambda')\n",
        "X=sp.Function(\"X\")(x)\n",
        "\n",
        "#ecuacion diferencial (1)\n",
        "ecuacion=sp.Eq(X.diff(x,x)+2*X.diff(x)+lamda*X,0)\n",
        "print('La ecuacion diferencial es:')\n",
        "display(ecuacion)\n",
        "#resolviendo la ecuacion\n",
        "solucion=sp.dsolve(ecuacion)\n",
        "print('La solucion de la ecuacion diferencial es:')\n",
        "display(solucion)"
      ],
      "metadata": {
        "colab": {
          "base_uri": "https://localhost:8080/",
          "height": 114
        },
        "id": "JrCle-HBJIeF",
        "outputId": "9b48e1f0-a76c-4603-b002-9c2a207d5dd4"
      },
      "execution_count": 2,
      "outputs": [
        {
          "output_type": "stream",
          "name": "stdout",
          "text": [
            "La ecuacion diferencial es:\n"
          ]
        },
        {
          "output_type": "display_data",
          "data": {
            "text/plain": [
              "Eq(lambda*X(x) + 2*Derivative(X(x), x) + Derivative(X(x), (x, 2)), 0)"
            ],
            "text/latex": "$\\displaystyle \\lambda X{\\left(x \\right)} + 2 \\frac{d}{d x} X{\\left(x \\right)} + \\frac{d^{2}}{d x^{2}} X{\\left(x \\right)} = 0$"
          },
          "metadata": {}
        },
        {
          "output_type": "stream",
          "name": "stdout",
          "text": [
            "La solucion de la ecuacion diferencial es:\n"
          ]
        },
        {
          "output_type": "display_data",
          "data": {
            "text/plain": [
              "Eq(X(x), C1*exp(x*(sqrt(1 - lambda) - 1)) + C2*exp(-x*(sqrt(1 - lambda) + 1)))"
            ],
            "text/latex": "$\\displaystyle X{\\left(x \\right)} = C_{1} e^{x \\left(\\sqrt{1 - \\lambda} - 1\\right)} + C_{2} e^{- x \\left(\\sqrt{1 - \\lambda} + 1\\right)}$"
          },
          "metadata": {}
        }
      ]
    },
    {
      "cell_type": "markdown",
      "source": [
        "*como la solucion de la ecuacion queda en exponencial, aplicamos casos para lambda (0, mayor a 0 o menor a 0)*"
      ],
      "metadata": {
        "id": "VwRx0YQ5JYc-"
      }
    },
    {
      "cell_type": "code",
      "source": [
        "C1, C2 = sp.symbols('C1 C2')\n",
        "X_solucion = solucion.rhs\n",
        "\n",
        "# Caso lambda < 1\n",
        "lmbd = sp.symbols('lmbd', real=True, positive=True)\n",
        "sol_lmbd = sp.dsolve(sp.Eq(X.diff(x,x)+2*X.diff(x)-lmbd*X,0),X)\n",
        "print('Solución para lambda < 1:')\n",
        "display(sol_lmbd)\n",
        "#Condiciónes de borde\n",
        "\n",
        "eq1 = sp.Eq(sol_lmbd.rhs.subs(x, 0), 0)\n",
        "eq2 = sp.Eq(sol_lmbd.rhs.subs(x, 1), 0)\n"
      ],
      "metadata": {
        "colab": {
          "base_uri": "https://localhost:8080/",
          "height": 59
        },
        "id": "H3m9RRqUKsyv",
        "outputId": "7d34a804-11d5-4230-baa4-c5231dce6b5c"
      },
      "execution_count": 8,
      "outputs": [
        {
          "output_type": "stream",
          "name": "stdout",
          "text": [
            "Solución para lambda < 1:\n"
          ]
        },
        {
          "output_type": "display_data",
          "data": {
            "text/plain": [
              "Eq(X(x), C1*exp(x*(sqrt(lmbd + 1) - 1)) + C2*exp(-x*(sqrt(lmbd + 1) + 1)))"
            ],
            "text/latex": "$\\displaystyle X{\\left(x \\right)} = C_{1} e^{x \\left(\\sqrt{lmbd + 1} - 1\\right)} + C_{2} e^{- x \\left(\\sqrt{lmbd + 1} + 1\\right)}$"
          },
          "metadata": {}
        }
      ]
    },
    {
      "cell_type": "markdown",
      "source": [
        "*Resolviendo:*"
      ],
      "metadata": {
        "id": "YfBZJ7DvLPQl"
      }
    },
    {
      "cell_type": "code",
      "source": [
        "print('Condiciones de borde')\n",
        "display(eq1)\n",
        "display(eq2)\n",
        "#Resolvemos el sistema de ecuaciones con sympy\n",
        "sol_sistema = sp.solve([eq1, eq2], [C1,C2])\n"
      ],
      "metadata": {
        "colab": {
          "base_uri": "https://localhost:8080/",
          "height": 80
        },
        "id": "lDDv2nZoLPtt",
        "outputId": "f78e9237-6e83-4bc1-da89-a151995ea7b8"
      },
      "execution_count": 7,
      "outputs": [
        {
          "output_type": "stream",
          "name": "stdout",
          "text": [
            "Condiciones de borde\n"
          ]
        },
        {
          "output_type": "display_data",
          "data": {
            "text/plain": [
              "Eq(C1 + C2, 0)"
            ],
            "text/latex": "$\\displaystyle C_{1} + C_{2} = 0$"
          },
          "metadata": {}
        },
        {
          "output_type": "display_data",
          "data": {
            "text/plain": [
              "Eq(C1*exp(sqrt(lmbd + 1) - 1) + C2*exp(-sqrt(lmbd + 1) - 1), 0)"
            ],
            "text/latex": "$\\displaystyle C_{1} e^{\\sqrt{lmbd + 1} - 1} + C_{2} e^{- \\sqrt{lmbd + 1} - 1} = 0$"
          },
          "metadata": {}
        }
      ]
    },
    {
      "cell_type": "code",
      "source": [
        "print(sol_sistema)"
      ],
      "metadata": {
        "colab": {
          "base_uri": "https://localhost:8080/"
        },
        "id": "Ws_hsS8KLQaK",
        "outputId": "b3e6f49a-191d-407e-8d4a-0b53fe5c90ef"
      },
      "execution_count": 6,
      "outputs": [
        {
          "output_type": "stream",
          "name": "stdout",
          "text": [
            "{C1: 0, C2: 0}\n"
          ]
        }
      ]
    },
    {
      "cell_type": "markdown",
      "source": [
        "*hallando las eigenfunciones de la funcion:*"
      ],
      "metadata": {
        "id": "reJHVt4ISzBb"
      }
    },
    {
      "cell_type": "code",
      "source": [
        "eigenfunciones = []\n",
        "eigenvalores = []\n",
        "\n",
        "for n in range(1, 5): #Consideramos los primeros 4 eigenvalores y eigenfunciones\n",
        "    λ_n = (n * sp.pi)**2 - 2 * n * sp.pi + 1\n",
        "    eigenvalores.append(λ_n)\n",
        "    eigenfuncion_n = solucion.subs(lamda, λ_n)\n",
        "    eigenfunciones.append(eigenfuncion_n)\n",
        "\n",
        "print(\"\\nEigenvalores:\")\n",
        "print(eigenvalores)\n",
        "print(\"\\nEigenfunciones:\")\n",
        "for ef in eigenfunciones:\n",
        "  print(ef)"
      ],
      "metadata": {
        "colab": {
          "base_uri": "https://localhost:8080/"
        },
        "id": "YwbeeBOIUlB_",
        "outputId": "50ac079c-67ac-4d16-d01a-468f81d10b0d"
      },
      "execution_count": 24,
      "outputs": [
        {
          "output_type": "stream",
          "name": "stdout",
          "text": [
            "\n",
            "Eigenvalores:\n",
            "[-2*pi + 1 + pi**2, -4*pi + 1 + 4*pi**2, -6*pi + 1 + 9*pi**2, -8*pi + 1 + 16*pi**2]\n",
            "\n",
            "Eigenfunciones:\n",
            "Eq(X(x), C1*exp(x*(-1 + sqrt(-pi**2 + 2*pi))) + C2*exp(-x*(1 + sqrt(-pi**2 + 2*pi))))\n",
            "Eq(X(x), C1*exp(x*(-1 + sqrt(-4*pi**2 + 4*pi))) + C2*exp(-x*(1 + sqrt(-4*pi**2 + 4*pi))))\n",
            "Eq(X(x), C1*exp(x*(-1 + sqrt(-9*pi**2 + 6*pi))) + C2*exp(-x*(1 + sqrt(-9*pi**2 + 6*pi))))\n",
            "Eq(X(x), C1*exp(x*(-1 + sqrt(-16*pi**2 + 8*pi))) + C2*exp(-x*(1 + sqrt(-16*pi**2 + 8*pi))))\n"
          ]
        }
      ]
    },
    {
      "cell_type": "markdown",
      "source": [
        "*ahora, usamos las eigenfunciones de este problema para expandir en series de Fourier generalizadas la funcion: \\\\\n",
        "$u(x)=e^{-x}$, $0≤x≤1$*"
      ],
      "metadata": {
        "id": "jygWRLI6K_kN"
      }
    },
    {
      "cell_type": "code",
      "source": [
        "#aplicando eigenfunciones para expandir, definimos la funcion"
      ],
      "metadata": {
        "id": "v8OhN0_-LR7l"
      },
      "execution_count": null,
      "outputs": []
    },
    {
      "cell_type": "code",
      "source": [
        "u=sp.exp(-x)\n",
        "coeficientes = []\n",
        "for ef in eigenfunciones:\n",
        "  coeficiente_n = sp.integrate(u * ef.rhs, (x, 0, 1))\n",
        "  coeficientes.append(coeficiente_n)\n",
        "\n",
        "print(\"Coeficientes de la serie de Fourier generalizada:\")\n",
        "print(coeficientes)\n",
        "\n",
        "# Serie de Fourier generalizada\n",
        "serie_fourier_generalizada = sum(c * ef.rhs for c, ef in zip(coeficientes, eigenfunciones))\n",
        "print(\"Serie de Fourier generalizada:\")\n",
        "print(serie_fourier_generalizada)"
      ],
      "metadata": {
        "colab": {
          "base_uri": "https://localhost:8080/"
        },
        "id": "b6FNitMRSh6f",
        "outputId": "ac79f507-b407-4969-ffe8-40596d90311c"
      },
      "execution_count": 27,
      "outputs": [
        {
          "output_type": "stream",
          "name": "stdout",
          "text": [
            "\n",
            "Coeficientes de la serie de Fourier generalizada:\n",
            "[2*C1/(-2*pi + 4 + pi**2) - 2*C1*exp(2*sqrt(pi)*sqrt(2 - pi))/(-2*pi*exp(2)*exp(sqrt(pi)*sqrt(2 - pi)) + 4*exp(2)*exp(sqrt(pi)*sqrt(2 - pi)) + pi**2*exp(2)*exp(sqrt(pi)*sqrt(2 - pi))) - sqrt(pi)*C1*sqrt(2 - pi)*exp(2*sqrt(pi)*sqrt(2 - pi))/(-2*pi*exp(2)*exp(sqrt(pi)*sqrt(2 - pi)) + 4*exp(2)*exp(sqrt(pi)*sqrt(2 - pi)) + pi**2*exp(2)*exp(sqrt(pi)*sqrt(2 - pi))) + sqrt(pi)*C1*sqrt(2 - pi)/(-2*pi + 4 + pi**2) + 2*C2/(-2*pi + 4 + pi**2) - sqrt(pi)*C2*sqrt(2 - pi)/(-2*pi + 4 + pi**2) + sqrt(pi)*C2*sqrt(2 - pi)/(-2*pi*exp(2)*exp(sqrt(pi)*sqrt(2 - pi)) + 4*exp(2)*exp(sqrt(pi)*sqrt(2 - pi)) + pi**2*exp(2)*exp(sqrt(pi)*sqrt(2 - pi))) - 2*C2/(-2*pi*exp(2)*exp(sqrt(pi)*sqrt(2 - pi)) + 4*exp(2)*exp(sqrt(pi)*sqrt(2 - pi)) + pi**2*exp(2)*exp(sqrt(pi)*sqrt(2 - pi))), C1/(-2*pi + 2 + 2*pi**2) - sqrt(pi)*C1*sqrt(1 - pi)*exp(4*sqrt(pi)*sqrt(1 - pi))/(2*pi**2*exp(2)*exp(2*sqrt(pi)*sqrt(1 - pi)) + 2*exp(2)*exp(2*sqrt(pi)*sqrt(1 - pi)) - 2*pi*exp(2)*exp(2*sqrt(pi)*sqrt(1 - pi))) - C1*exp(4*sqrt(pi)*sqrt(1 - pi))/(2*pi**2*exp(2)*exp(2*sqrt(pi)*sqrt(1 - pi)) + 2*exp(2)*exp(2*sqrt(pi)*sqrt(1 - pi)) - 2*pi*exp(2)*exp(2*sqrt(pi)*sqrt(1 - pi))) + sqrt(pi)*C1*sqrt(1 - pi)/(-2*pi + 2 + 2*pi**2) + C2/(-2*pi + 2 + 2*pi**2) - sqrt(pi)*C2*sqrt(1 - pi)/(-2*pi + 2 + 2*pi**2) - C2/(2*pi**2*exp(2)*exp(2*sqrt(pi)*sqrt(1 - pi)) + 2*exp(2)*exp(2*sqrt(pi)*sqrt(1 - pi)) - 2*pi*exp(2)*exp(2*sqrt(pi)*sqrt(1 - pi))) + sqrt(pi)*C2*sqrt(1 - pi)/(2*pi**2*exp(2)*exp(2*sqrt(pi)*sqrt(1 - pi)) + 2*exp(2)*exp(2*sqrt(pi)*sqrt(1 - pi)) - 2*pi*exp(2)*exp(2*sqrt(pi)*sqrt(1 - pi))), 2*C1/(-6*pi + 4 + 9*pi**2) - 2*C1*exp(2*sqrt(3)*sqrt(pi)*sqrt(2 - 3*pi))/(-6*pi*exp(2)*exp(sqrt(3)*sqrt(pi)*sqrt(2 - 3*pi)) + 4*exp(2)*exp(sqrt(3)*sqrt(pi)*sqrt(2 - 3*pi)) + 9*pi**2*exp(2)*exp(sqrt(3)*sqrt(pi)*sqrt(2 - 3*pi))) - sqrt(3)*sqrt(pi)*C1*sqrt(2 - 3*pi)*exp(2*sqrt(3)*sqrt(pi)*sqrt(2 - 3*pi))/(-6*pi*exp(2)*exp(sqrt(3)*sqrt(pi)*sqrt(2 - 3*pi)) + 4*exp(2)*exp(sqrt(3)*sqrt(pi)*sqrt(2 - 3*pi)) + 9*pi**2*exp(2)*exp(sqrt(3)*sqrt(pi)*sqrt(2 - 3*pi))) + sqrt(3)*sqrt(pi)*C1*sqrt(2 - 3*pi)/(-6*pi + 4 + 9*pi**2) + 2*C2/(-6*pi + 4 + 9*pi**2) - sqrt(3)*sqrt(pi)*C2*sqrt(2 - 3*pi)/(-6*pi + 4 + 9*pi**2) + sqrt(3)*sqrt(pi)*C2*sqrt(2 - 3*pi)/(-6*pi*exp(2)*exp(sqrt(3)*sqrt(pi)*sqrt(2 - 3*pi)) + 4*exp(2)*exp(sqrt(3)*sqrt(pi)*sqrt(2 - 3*pi)) + 9*pi**2*exp(2)*exp(sqrt(3)*sqrt(pi)*sqrt(2 - 3*pi))) - 2*C2/(-6*pi*exp(2)*exp(sqrt(3)*sqrt(pi)*sqrt(2 - 3*pi)) + 4*exp(2)*exp(sqrt(3)*sqrt(pi)*sqrt(2 - 3*pi)) + 9*pi**2*exp(2)*exp(sqrt(3)*sqrt(pi)*sqrt(2 - 3*pi))), -4*sqrt(2)*pi**(3/2)*C1*sqrt(1 - 2*pi)/(-64*pi**3 - 8*pi + 32*pi**2 + 64*pi**4 - 4*sqrt(2)*pi**(3/2)*sqrt(1 - 2*pi) + 2*sqrt(2)*sqrt(pi)*sqrt(1 - 2*pi) + 8*sqrt(2)*pi**(5/2)*sqrt(1 - 2*pi)) - 8*sqrt(2)*pi**(5/2)*C1*sqrt(1 - 2*pi)*exp(4*sqrt(2)*sqrt(pi)*sqrt(1 - 2*pi))/(64*pi**4*exp(2)*exp(2*sqrt(2)*sqrt(pi)*sqrt(1 - 2*pi)) + 32*pi**2*exp(2)*exp(2*sqrt(2)*sqrt(pi)*sqrt(1 - 2*pi)) - 4*sqrt(2)*pi**(3/2)*sqrt(1 - 2*pi)*exp(2)*exp(2*sqrt(2)*sqrt(pi)*sqrt(1 - 2*pi)) + 2*sqrt(2)*sqrt(pi)*sqrt(1 - 2*pi)*exp(2)*exp(2*sqrt(2)*sqrt(pi)*sqrt(1 - 2*pi)) - 8*pi*exp(2)*exp(2*sqrt(2)*sqrt(pi)*sqrt(1 - 2*pi)) + 8*sqrt(2)*pi**(5/2)*sqrt(1 - 2*pi)*exp(2)*exp(2*sqrt(2)*sqrt(pi)*sqrt(1 - 2*pi)) - 64*pi**3*exp(2)*exp(2*sqrt(2)*sqrt(pi)*sqrt(1 - 2*pi))) + 4*pi**2*C1/(-64*pi**3 - 8*pi + 32*pi**2 + 64*pi**4 - 4*sqrt(2)*pi**(3/2)*sqrt(1 - 2*pi) + 2*sqrt(2)*sqrt(pi)*sqrt(1 - 2*pi) + 8*sqrt(2)*pi**(5/2)*sqrt(1 - 2*pi)) + 2*pi*C1*exp(4*sqrt(2)*sqrt(pi)*sqrt(1 - 2*pi))/(64*pi**4*exp(2)*exp(2*sqrt(2)*sqrt(pi)*sqrt(1 - 2*pi)) + 32*pi**2*exp(2)*exp(2*sqrt(2)*sqrt(pi)*sqrt(1 - 2*pi)) - 4*sqrt(2)*pi**(3/2)*sqrt(1 - 2*pi)*exp(2)*exp(2*sqrt(2)*sqrt(pi)*sqrt(1 - 2*pi)) + 2*sqrt(2)*sqrt(pi)*sqrt(1 - 2*pi)*exp(2)*exp(2*sqrt(2)*sqrt(pi)*sqrt(1 - 2*pi)) - 8*pi*exp(2)*exp(2*sqrt(2)*sqrt(pi)*sqrt(1 - 2*pi)) + 8*sqrt(2)*pi**(5/2)*sqrt(1 - 2*pi)*exp(2)*exp(2*sqrt(2)*sqrt(pi)*sqrt(1 - 2*pi)) - 64*pi**3*exp(2)*exp(2*sqrt(2)*sqrt(pi)*sqrt(1 - 2*pi))) - sqrt(2)*sqrt(pi)*C1*sqrt(1 - 2*pi)*exp(4*sqrt(2)*sqrt(pi)*sqrt(1 - 2*pi))/(64*pi**4*exp(2)*exp(2*sqrt(2)*sqrt(pi)*sqrt(1 - 2*pi)) + 32*pi**2*exp(2)*exp(2*sqrt(2)*sqrt(pi)*sqrt(1 - 2*pi)) - 4*sqrt(2)*pi**(3/2)*sqrt(1 - 2*pi)*exp(2)*exp(2*sqrt(2)*sqrt(pi)*sqrt(1 - 2*pi)) + 2*sqrt(2)*sqrt(pi)*sqrt(1 - 2*pi)*exp(2)*exp(2*sqrt(2)*sqrt(pi)*sqrt(1 - 2*pi)) - 8*pi*exp(2)*exp(2*sqrt(2)*sqrt(pi)*sqrt(1 - 2*pi)) + 8*sqrt(2)*pi**(5/2)*sqrt(1 - 2*pi)*exp(2)*exp(2*sqrt(2)*sqrt(pi)*sqrt(1 - 2*pi)) - 64*pi**3*exp(2)*exp(2*sqrt(2)*sqrt(pi)*sqrt(1 - 2*pi))) - 2*pi*C1/(-64*pi**3 - 8*pi + 32*pi**2 + 64*pi**4 - 4*sqrt(2)*pi**(3/2)*sqrt(1 - 2*pi) + 2*sqrt(2)*sqrt(pi)*sqrt(1 - 2*pi) + 8*sqrt(2)*pi**(5/2)*sqrt(1 - 2*pi)) + 4*sqrt(2)*pi**(3/2)*C1*sqrt(1 - 2*pi)*exp(4*sqrt(2)*sqrt(pi)*sqrt(1 - 2*pi))/(64*pi**4*exp(2)*exp(2*sqrt(2)*sqrt(pi)*sqrt(1 - 2*pi)) + 32*pi**2*exp(2)*exp(2*sqrt(2)*sqrt(pi)*sqrt(1 - 2*pi)) - 4*sqrt(2)*pi**(3/2)*sqrt(1 - 2*pi)*exp(2)*exp(2*sqrt(2)*sqrt(pi)*sqrt(1 - 2*pi)) + 2*sqrt(2)*sqrt(pi)*sqrt(1 - 2*pi)*exp(2)*exp(2*sqrt(2)*sqrt(pi)*sqrt(1 - 2*pi)) - 8*pi*exp(2)*exp(2*sqrt(2)*sqrt(pi)*sqrt(1 - 2*pi)) + 8*sqrt(2)*pi**(5/2)*sqrt(1 - 2*pi)*exp(2)*exp(2*sqrt(2)*sqrt(pi)*sqrt(1 - 2*pi)) - 64*pi**3*exp(2)*exp(2*sqrt(2)*sqrt(pi)*sqrt(1 - 2*pi))) - 4*pi**2*C1*exp(4*sqrt(2)*sqrt(pi)*sqrt(1 - 2*pi))/(64*pi**4*exp(2)*exp(2*sqrt(2)*sqrt(pi)*sqrt(1 - 2*pi)) + 32*pi**2*exp(2)*exp(2*sqrt(2)*sqrt(pi)*sqrt(1 - 2*pi)) - 4*sqrt(2)*pi**(3/2)*sqrt(1 - 2*pi)*exp(2)*exp(2*sqrt(2)*sqrt(pi)*sqrt(1 - 2*pi)) + 2*sqrt(2)*sqrt(pi)*sqrt(1 - 2*pi)*exp(2)*exp(2*sqrt(2)*sqrt(pi)*sqrt(1 - 2*pi)) - 8*pi*exp(2)*exp(2*sqrt(2)*sqrt(pi)*sqrt(1 - 2*pi)) + 8*sqrt(2)*pi**(5/2)*sqrt(1 - 2*pi)*exp(2)*exp(2*sqrt(2)*sqrt(pi)*sqrt(1 - 2*pi)) - 64*pi**3*exp(2)*exp(2*sqrt(2)*sqrt(pi)*sqrt(1 - 2*pi))) + sqrt(2)*sqrt(pi)*C1*sqrt(1 - 2*pi)/(-64*pi**3 - 8*pi + 32*pi**2 + 64*pi**4 - 4*sqrt(2)*pi**(3/2)*sqrt(1 - 2*pi) + 2*sqrt(2)*sqrt(pi)*sqrt(1 - 2*pi) + 8*sqrt(2)*pi**(5/2)*sqrt(1 - 2*pi)) + 8*sqrt(2)*pi**(5/2)*C1*sqrt(1 - 2*pi)/(-64*pi**3 - 8*pi + 32*pi**2 + 64*pi**4 - 4*sqrt(2)*pi**(3/2)*sqrt(1 - 2*pi) + 2*sqrt(2)*sqrt(pi)*sqrt(1 - 2*pi) + 8*sqrt(2)*pi**(5/2)*sqrt(1 - 2*pi)) - 8*sqrt(2)*pi**(5/2)*C2*sqrt(1 - 2*pi)/(-64*pi**3 - 8*pi + 32*pi**2 + 64*pi**4 - 4*sqrt(2)*pi**(3/2)*sqrt(1 - 2*pi) + 2*sqrt(2)*sqrt(pi)*sqrt(1 - 2*pi) + 8*sqrt(2)*pi**(5/2)*sqrt(1 - 2*pi)) - 12*pi**2*C2/(64*pi**4*exp(2)*exp(2*sqrt(2)*sqrt(pi)*sqrt(1 - 2*pi)) + 32*pi**2*exp(2)*exp(2*sqrt(2)*sqrt(pi)*sqrt(1 - 2*pi)) - 4*sqrt(2)*pi**(3/2)*sqrt(1 - 2*pi)*exp(2)*exp(2*sqrt(2)*sqrt(pi)*sqrt(1 - 2*pi)) + 2*sqrt(2)*sqrt(pi)*sqrt(1 - 2*pi)*exp(2)*exp(2*sqrt(2)*sqrt(pi)*sqrt(1 - 2*pi)) - 8*pi*exp(2)*exp(2*sqrt(2)*sqrt(pi)*sqrt(1 - 2*pi)) + 8*sqrt(2)*pi**(5/2)*sqrt(1 - 2*pi)*exp(2)*exp(2*sqrt(2)*sqrt(pi)*sqrt(1 - 2*pi)) - 64*pi**3*exp(2)*exp(2*sqrt(2)*sqrt(pi)*sqrt(1 - 2*pi))) + 12*pi**2*C2/(-64*pi**3 - 8*pi + 32*pi**2 + 64*pi**4 - 4*sqrt(2)*pi**(3/2)*sqrt(1 - 2*pi) + 2*sqrt(2)*sqrt(pi)*sqrt(1 - 2*pi) + 8*sqrt(2)*pi**(5/2)*sqrt(1 - 2*pi)) - 4*sqrt(2)*pi**(3/2)*C2*sqrt(1 - 2*pi)/(64*pi**4*exp(2)*exp(2*sqrt(2)*sqrt(pi)*sqrt(1 - 2*pi)) + 32*pi**2*exp(2)*exp(2*sqrt(2)*sqrt(pi)*sqrt(1 - 2*pi)) - 4*sqrt(2)*pi**(3/2)*sqrt(1 - 2*pi)*exp(2)*exp(2*sqrt(2)*sqrt(pi)*sqrt(1 - 2*pi)) + 2*sqrt(2)*sqrt(pi)*sqrt(1 - 2*pi)*exp(2)*exp(2*sqrt(2)*sqrt(pi)*sqrt(1 - 2*pi)) - 8*pi*exp(2)*exp(2*sqrt(2)*sqrt(pi)*sqrt(1 - 2*pi)) + 8*sqrt(2)*pi**(5/2)*sqrt(1 - 2*pi)*exp(2)*exp(2*sqrt(2)*sqrt(pi)*sqrt(1 - 2*pi)) - 64*pi**3*exp(2)*exp(2*sqrt(2)*sqrt(pi)*sqrt(1 - 2*pi))) - sqrt(2)*sqrt(pi)*C2*sqrt(1 - 2*pi)/(64*pi**4*exp(2)*exp(2*sqrt(2)*sqrt(pi)*sqrt(1 - 2*pi)) + 32*pi**2*exp(2)*exp(2*sqrt(2)*sqrt(pi)*sqrt(1 - 2*pi)) - 4*sqrt(2)*pi**(3/2)*sqrt(1 - 2*pi)*exp(2)*exp(2*sqrt(2)*sqrt(pi)*sqrt(1 - 2*pi)) + 2*sqrt(2)*sqrt(pi)*sqrt(1 - 2*pi)*exp(2)*exp(2*sqrt(2)*sqrt(pi)*sqrt(1 - 2*pi)) - 8*pi*exp(2)*exp(2*sqrt(2)*sqrt(pi)*sqrt(1 - 2*pi)) + 8*sqrt(2)*pi**(5/2)*sqrt(1 - 2*pi)*exp(2)*exp(2*sqrt(2)*sqrt(pi)*sqrt(1 - 2*pi)) - 64*pi**3*exp(2)*exp(2*sqrt(2)*sqrt(pi)*sqrt(1 - 2*pi))) - 6*pi*C2/(-64*pi**3 - 8*pi + 32*pi**2 + 64*pi**4 - 4*sqrt(2)*pi**(3/2)*sqrt(1 - 2*pi) + 2*sqrt(2)*sqrt(pi)*sqrt(1 - 2*pi) + 8*sqrt(2)*pi**(5/2)*sqrt(1 - 2*pi)) + 6*pi*C2/(64*pi**4*exp(2)*exp(2*sqrt(2)*sqrt(pi)*sqrt(1 - 2*pi)) + 32*pi**2*exp(2)*exp(2*sqrt(2)*sqrt(pi)*sqrt(1 - 2*pi)) - 4*sqrt(2)*pi**(3/2)*sqrt(1 - 2*pi)*exp(2)*exp(2*sqrt(2)*sqrt(pi)*sqrt(1 - 2*pi)) + 2*sqrt(2)*sqrt(pi)*sqrt(1 - 2*pi)*exp(2)*exp(2*sqrt(2)*sqrt(pi)*sqrt(1 - 2*pi)) - 8*pi*exp(2)*exp(2*sqrt(2)*sqrt(pi)*sqrt(1 - 2*pi)) + 8*sqrt(2)*pi**(5/2)*sqrt(1 - 2*pi)*exp(2)*exp(2*sqrt(2)*sqrt(pi)*sqrt(1 - 2*pi)) - 64*pi**3*exp(2)*exp(2*sqrt(2)*sqrt(pi)*sqrt(1 - 2*pi))) + sqrt(2)*sqrt(pi)*C2*sqrt(1 - 2*pi)/(-64*pi**3 - 8*pi + 32*pi**2 + 64*pi**4 - 4*sqrt(2)*pi**(3/2)*sqrt(1 - 2*pi) + 2*sqrt(2)*sqrt(pi)*sqrt(1 - 2*pi) + 8*sqrt(2)*pi**(5/2)*sqrt(1 - 2*pi)) + 8*sqrt(2)*pi**(5/2)*C2*sqrt(1 - 2*pi)/(64*pi**4*exp(2)*exp(2*sqrt(2)*sqrt(pi)*sqrt(1 - 2*pi)) + 32*pi**2*exp(2)*exp(2*sqrt(2)*sqrt(pi)*sqrt(1 - 2*pi)) - 4*sqrt(2)*pi**(3/2)*sqrt(1 - 2*pi)*exp(2)*exp(2*sqrt(2)*sqrt(pi)*sqrt(1 - 2*pi)) + 2*sqrt(2)*sqrt(pi)*sqrt(1 - 2*pi)*exp(2)*exp(2*sqrt(2)*sqrt(pi)*sqrt(1 - 2*pi)) - 8*pi*exp(2)*exp(2*sqrt(2)*sqrt(pi)*sqrt(1 - 2*pi)) + 8*sqrt(2)*pi**(5/2)*sqrt(1 - 2*pi)*exp(2)*exp(2*sqrt(2)*sqrt(pi)*sqrt(1 - 2*pi)) - 64*pi**3*exp(2)*exp(2*sqrt(2)*sqrt(pi)*sqrt(1 - 2*pi))) + 4*sqrt(2)*pi**(3/2)*C2*sqrt(1 - 2*pi)/(-64*pi**3 - 8*pi + 32*pi**2 + 64*pi**4 - 4*sqrt(2)*pi**(3/2)*sqrt(1 - 2*pi) + 2*sqrt(2)*sqrt(pi)*sqrt(1 - 2*pi) + 8*sqrt(2)*pi**(5/2)*sqrt(1 - 2*pi))]\n",
            "\n",
            "Serie de Fourier generalizada:\n",
            "(C1*exp(x*(-1 + sqrt(-16*pi**2 + 8*pi))) + C2*exp(-x*(1 + sqrt(-16*pi**2 + 8*pi))))*(-4*sqrt(2)*pi**(3/2)*C1*sqrt(1 - 2*pi)/(-64*pi**3 - 8*pi + 32*pi**2 + 64*pi**4 - 4*sqrt(2)*pi**(3/2)*sqrt(1 - 2*pi) + 2*sqrt(2)*sqrt(pi)*sqrt(1 - 2*pi) + 8*sqrt(2)*pi**(5/2)*sqrt(1 - 2*pi)) - 8*sqrt(2)*pi**(5/2)*C1*sqrt(1 - 2*pi)*exp(4*sqrt(2)*sqrt(pi)*sqrt(1 - 2*pi))/(64*pi**4*exp(2)*exp(2*sqrt(2)*sqrt(pi)*sqrt(1 - 2*pi)) + 32*pi**2*exp(2)*exp(2*sqrt(2)*sqrt(pi)*sqrt(1 - 2*pi)) - 4*sqrt(2)*pi**(3/2)*sqrt(1 - 2*pi)*exp(2)*exp(2*sqrt(2)*sqrt(pi)*sqrt(1 - 2*pi)) + 2*sqrt(2)*sqrt(pi)*sqrt(1 - 2*pi)*exp(2)*exp(2*sqrt(2)*sqrt(pi)*sqrt(1 - 2*pi)) - 8*pi*exp(2)*exp(2*sqrt(2)*sqrt(pi)*sqrt(1 - 2*pi)) + 8*sqrt(2)*pi**(5/2)*sqrt(1 - 2*pi)*exp(2)*exp(2*sqrt(2)*sqrt(pi)*sqrt(1 - 2*pi)) - 64*pi**3*exp(2)*exp(2*sqrt(2)*sqrt(pi)*sqrt(1 - 2*pi))) + 4*pi**2*C1/(-64*pi**3 - 8*pi + 32*pi**2 + 64*pi**4 - 4*sqrt(2)*pi**(3/2)*sqrt(1 - 2*pi) + 2*sqrt(2)*sqrt(pi)*sqrt(1 - 2*pi) + 8*sqrt(2)*pi**(5/2)*sqrt(1 - 2*pi)) + 2*pi*C1*exp(4*sqrt(2)*sqrt(pi)*sqrt(1 - 2*pi))/(64*pi**4*exp(2)*exp(2*sqrt(2)*sqrt(pi)*sqrt(1 - 2*pi)) + 32*pi**2*exp(2)*exp(2*sqrt(2)*sqrt(pi)*sqrt(1 - 2*pi)) - 4*sqrt(2)*pi**(3/2)*sqrt(1 - 2*pi)*exp(2)*exp(2*sqrt(2)*sqrt(pi)*sqrt(1 - 2*pi)) + 2*sqrt(2)*sqrt(pi)*sqrt(1 - 2*pi)*exp(2)*exp(2*sqrt(2)*sqrt(pi)*sqrt(1 - 2*pi)) - 8*pi*exp(2)*exp(2*sqrt(2)*sqrt(pi)*sqrt(1 - 2*pi)) + 8*sqrt(2)*pi**(5/2)*sqrt(1 - 2*pi)*exp(2)*exp(2*sqrt(2)*sqrt(pi)*sqrt(1 - 2*pi)) - 64*pi**3*exp(2)*exp(2*sqrt(2)*sqrt(pi)*sqrt(1 - 2*pi))) - sqrt(2)*sqrt(pi)*C1*sqrt(1 - 2*pi)*exp(4*sqrt(2)*sqrt(pi)*sqrt(1 - 2*pi))/(64*pi**4*exp(2)*exp(2*sqrt(2)*sqrt(pi)*sqrt(1 - 2*pi)) + 32*pi**2*exp(2)*exp(2*sqrt(2)*sqrt(pi)*sqrt(1 - 2*pi)) - 4*sqrt(2)*pi**(3/2)*sqrt(1 - 2*pi)*exp(2)*exp(2*sqrt(2)*sqrt(pi)*sqrt(1 - 2*pi)) + 2*sqrt(2)*sqrt(pi)*sqrt(1 - 2*pi)*exp(2)*exp(2*sqrt(2)*sqrt(pi)*sqrt(1 - 2*pi)) - 8*pi*exp(2)*exp(2*sqrt(2)*sqrt(pi)*sqrt(1 - 2*pi)) + 8*sqrt(2)*pi**(5/2)*sqrt(1 - 2*pi)*exp(2)*exp(2*sqrt(2)*sqrt(pi)*sqrt(1 - 2*pi)) - 64*pi**3*exp(2)*exp(2*sqrt(2)*sqrt(pi)*sqrt(1 - 2*pi))) - 2*pi*C1/(-64*pi**3 - 8*pi + 32*pi**2 + 64*pi**4 - 4*sqrt(2)*pi**(3/2)*sqrt(1 - 2*pi) + 2*sqrt(2)*sqrt(pi)*sqrt(1 - 2*pi) + 8*sqrt(2)*pi**(5/2)*sqrt(1 - 2*pi)) + 4*sqrt(2)*pi**(3/2)*C1*sqrt(1 - 2*pi)*exp(4*sqrt(2)*sqrt(pi)*sqrt(1 - 2*pi))/(64*pi**4*exp(2)*exp(2*sqrt(2)*sqrt(pi)*sqrt(1 - 2*pi)) + 32*pi**2*exp(2)*exp(2*sqrt(2)*sqrt(pi)*sqrt(1 - 2*pi)) - 4*sqrt(2)*pi**(3/2)*sqrt(1 - 2*pi)*exp(2)*exp(2*sqrt(2)*sqrt(pi)*sqrt(1 - 2*pi)) + 2*sqrt(2)*sqrt(pi)*sqrt(1 - 2*pi)*exp(2)*exp(2*sqrt(2)*sqrt(pi)*sqrt(1 - 2*pi)) - 8*pi*exp(2)*exp(2*sqrt(2)*sqrt(pi)*sqrt(1 - 2*pi)) + 8*sqrt(2)*pi**(5/2)*sqrt(1 - 2*pi)*exp(2)*exp(2*sqrt(2)*sqrt(pi)*sqrt(1 - 2*pi)) - 64*pi**3*exp(2)*exp(2*sqrt(2)*sqrt(pi)*sqrt(1 - 2*pi))) - 4*pi**2*C1*exp(4*sqrt(2)*sqrt(pi)*sqrt(1 - 2*pi))/(64*pi**4*exp(2)*exp(2*sqrt(2)*sqrt(pi)*sqrt(1 - 2*pi)) + 32*pi**2*exp(2)*exp(2*sqrt(2)*sqrt(pi)*sqrt(1 - 2*pi)) - 4*sqrt(2)*pi**(3/2)*sqrt(1 - 2*pi)*exp(2)*exp(2*sqrt(2)*sqrt(pi)*sqrt(1 - 2*pi)) + 2*sqrt(2)*sqrt(pi)*sqrt(1 - 2*pi)*exp(2)*exp(2*sqrt(2)*sqrt(pi)*sqrt(1 - 2*pi)) - 8*pi*exp(2)*exp(2*sqrt(2)*sqrt(pi)*sqrt(1 - 2*pi)) + 8*sqrt(2)*pi**(5/2)*sqrt(1 - 2*pi)*exp(2)*exp(2*sqrt(2)*sqrt(pi)*sqrt(1 - 2*pi)) - 64*pi**3*exp(2)*exp(2*sqrt(2)*sqrt(pi)*sqrt(1 - 2*pi))) + sqrt(2)*sqrt(pi)*C1*sqrt(1 - 2*pi)/(-64*pi**3 - 8*pi + 32*pi**2 + 64*pi**4 - 4*sqrt(2)*pi**(3/2)*sqrt(1 - 2*pi) + 2*sqrt(2)*sqrt(pi)*sqrt(1 - 2*pi) + 8*sqrt(2)*pi**(5/2)*sqrt(1 - 2*pi)) + 8*sqrt(2)*pi**(5/2)*C1*sqrt(1 - 2*pi)/(-64*pi**3 - 8*pi + 32*pi**2 + 64*pi**4 - 4*sqrt(2)*pi**(3/2)*sqrt(1 - 2*pi) + 2*sqrt(2)*sqrt(pi)*sqrt(1 - 2*pi) + 8*sqrt(2)*pi**(5/2)*sqrt(1 - 2*pi)) - 8*sqrt(2)*pi**(5/2)*C2*sqrt(1 - 2*pi)/(-64*pi**3 - 8*pi + 32*pi**2 + 64*pi**4 - 4*sqrt(2)*pi**(3/2)*sqrt(1 - 2*pi) + 2*sqrt(2)*sqrt(pi)*sqrt(1 - 2*pi) + 8*sqrt(2)*pi**(5/2)*sqrt(1 - 2*pi)) - 12*pi**2*C2/(64*pi**4*exp(2)*exp(2*sqrt(2)*sqrt(pi)*sqrt(1 - 2*pi)) + 32*pi**2*exp(2)*exp(2*sqrt(2)*sqrt(pi)*sqrt(1 - 2*pi)) - 4*sqrt(2)*pi**(3/2)*sqrt(1 - 2*pi)*exp(2)*exp(2*sqrt(2)*sqrt(pi)*sqrt(1 - 2*pi)) + 2*sqrt(2)*sqrt(pi)*sqrt(1 - 2*pi)*exp(2)*exp(2*sqrt(2)*sqrt(pi)*sqrt(1 - 2*pi)) - 8*pi*exp(2)*exp(2*sqrt(2)*sqrt(pi)*sqrt(1 - 2*pi)) + 8*sqrt(2)*pi**(5/2)*sqrt(1 - 2*pi)*exp(2)*exp(2*sqrt(2)*sqrt(pi)*sqrt(1 - 2*pi)) - 64*pi**3*exp(2)*exp(2*sqrt(2)*sqrt(pi)*sqrt(1 - 2*pi))) + 12*pi**2*C2/(-64*pi**3 - 8*pi + 32*pi**2 + 64*pi**4 - 4*sqrt(2)*pi**(3/2)*sqrt(1 - 2*pi) + 2*sqrt(2)*sqrt(pi)*sqrt(1 - 2*pi) + 8*sqrt(2)*pi**(5/2)*sqrt(1 - 2*pi)) - 4*sqrt(2)*pi**(3/2)*C2*sqrt(1 - 2*pi)/(64*pi**4*exp(2)*exp(2*sqrt(2)*sqrt(pi)*sqrt(1 - 2*pi)) + 32*pi**2*exp(2)*exp(2*sqrt(2)*sqrt(pi)*sqrt(1 - 2*pi)) - 4*sqrt(2)*pi**(3/2)*sqrt(1 - 2*pi)*exp(2)*exp(2*sqrt(2)*sqrt(pi)*sqrt(1 - 2*pi)) + 2*sqrt(2)*sqrt(pi)*sqrt(1 - 2*pi)*exp(2)*exp(2*sqrt(2)*sqrt(pi)*sqrt(1 - 2*pi)) - 8*pi*exp(2)*exp(2*sqrt(2)*sqrt(pi)*sqrt(1 - 2*pi)) + 8*sqrt(2)*pi**(5/2)*sqrt(1 - 2*pi)*exp(2)*exp(2*sqrt(2)*sqrt(pi)*sqrt(1 - 2*pi)) - 64*pi**3*exp(2)*exp(2*sqrt(2)*sqrt(pi)*sqrt(1 - 2*pi))) - sqrt(2)*sqrt(pi)*C2*sqrt(1 - 2*pi)/(64*pi**4*exp(2)*exp(2*sqrt(2)*sqrt(pi)*sqrt(1 - 2*pi)) + 32*pi**2*exp(2)*exp(2*sqrt(2)*sqrt(pi)*sqrt(1 - 2*pi)) - 4*sqrt(2)*pi**(3/2)*sqrt(1 - 2*pi)*exp(2)*exp(2*sqrt(2)*sqrt(pi)*sqrt(1 - 2*pi)) + 2*sqrt(2)*sqrt(pi)*sqrt(1 - 2*pi)*exp(2)*exp(2*sqrt(2)*sqrt(pi)*sqrt(1 - 2*pi)) - 8*pi*exp(2)*exp(2*sqrt(2)*sqrt(pi)*sqrt(1 - 2*pi)) + 8*sqrt(2)*pi**(5/2)*sqrt(1 - 2*pi)*exp(2)*exp(2*sqrt(2)*sqrt(pi)*sqrt(1 - 2*pi)) - 64*pi**3*exp(2)*exp(2*sqrt(2)*sqrt(pi)*sqrt(1 - 2*pi))) - 6*pi*C2/(-64*pi**3 - 8*pi + 32*pi**2 + 64*pi**4 - 4*sqrt(2)*pi**(3/2)*sqrt(1 - 2*pi) + 2*sqrt(2)*sqrt(pi)*sqrt(1 - 2*pi) + 8*sqrt(2)*pi**(5/2)*sqrt(1 - 2*pi)) + 6*pi*C2/(64*pi**4*exp(2)*exp(2*sqrt(2)*sqrt(pi)*sqrt(1 - 2*pi)) + 32*pi**2*exp(2)*exp(2*sqrt(2)*sqrt(pi)*sqrt(1 - 2*pi)) - 4*sqrt(2)*pi**(3/2)*sqrt(1 - 2*pi)*exp(2)*exp(2*sqrt(2)*sqrt(pi)*sqrt(1 - 2*pi)) + 2*sqrt(2)*sqrt(pi)*sqrt(1 - 2*pi)*exp(2)*exp(2*sqrt(2)*sqrt(pi)*sqrt(1 - 2*pi)) - 8*pi*exp(2)*exp(2*sqrt(2)*sqrt(pi)*sqrt(1 - 2*pi)) + 8*sqrt(2)*pi**(5/2)*sqrt(1 - 2*pi)*exp(2)*exp(2*sqrt(2)*sqrt(pi)*sqrt(1 - 2*pi)) - 64*pi**3*exp(2)*exp(2*sqrt(2)*sqrt(pi)*sqrt(1 - 2*pi))) + sqrt(2)*sqrt(pi)*C2*sqrt(1 - 2*pi)/(-64*pi**3 - 8*pi + 32*pi**2 + 64*pi**4 - 4*sqrt(2)*pi**(3/2)*sqrt(1 - 2*pi) + 2*sqrt(2)*sqrt(pi)*sqrt(1 - 2*pi) + 8*sqrt(2)*pi**(5/2)*sqrt(1 - 2*pi)) + 8*sqrt(2)*pi**(5/2)*C2*sqrt(1 - 2*pi)/(64*pi**4*exp(2)*exp(2*sqrt(2)*sqrt(pi)*sqrt(1 - 2*pi)) + 32*pi**2*exp(2)*exp(2*sqrt(2)*sqrt(pi)*sqrt(1 - 2*pi)) - 4*sqrt(2)*pi**(3/2)*sqrt(1 - 2*pi)*exp(2)*exp(2*sqrt(2)*sqrt(pi)*sqrt(1 - 2*pi)) + 2*sqrt(2)*sqrt(pi)*sqrt(1 - 2*pi)*exp(2)*exp(2*sqrt(2)*sqrt(pi)*sqrt(1 - 2*pi)) - 8*pi*exp(2)*exp(2*sqrt(2)*sqrt(pi)*sqrt(1 - 2*pi)) + 8*sqrt(2)*pi**(5/2)*sqrt(1 - 2*pi)*exp(2)*exp(2*sqrt(2)*sqrt(pi)*sqrt(1 - 2*pi)) - 64*pi**3*exp(2)*exp(2*sqrt(2)*sqrt(pi)*sqrt(1 - 2*pi))) + 4*sqrt(2)*pi**(3/2)*C2*sqrt(1 - 2*pi)/(-64*pi**3 - 8*pi + 32*pi**2 + 64*pi**4 - 4*sqrt(2)*pi**(3/2)*sqrt(1 - 2*pi) + 2*sqrt(2)*sqrt(pi)*sqrt(1 - 2*pi) + 8*sqrt(2)*pi**(5/2)*sqrt(1 - 2*pi))) + (C1*exp(x*(-1 + sqrt(-9*pi**2 + 6*pi))) + C2*exp(-x*(1 + sqrt(-9*pi**2 + 6*pi))))*(2*C1/(-6*pi + 4 + 9*pi**2) - 2*C1*exp(2*sqrt(3)*sqrt(pi)*sqrt(2 - 3*pi))/(-6*pi*exp(2)*exp(sqrt(3)*sqrt(pi)*sqrt(2 - 3*pi)) + 4*exp(2)*exp(sqrt(3)*sqrt(pi)*sqrt(2 - 3*pi)) + 9*pi**2*exp(2)*exp(sqrt(3)*sqrt(pi)*sqrt(2 - 3*pi))) - sqrt(3)*sqrt(pi)*C1*sqrt(2 - 3*pi)*exp(2*sqrt(3)*sqrt(pi)*sqrt(2 - 3*pi))/(-6*pi*exp(2)*exp(sqrt(3)*sqrt(pi)*sqrt(2 - 3*pi)) + 4*exp(2)*exp(sqrt(3)*sqrt(pi)*sqrt(2 - 3*pi)) + 9*pi**2*exp(2)*exp(sqrt(3)*sqrt(pi)*sqrt(2 - 3*pi))) + sqrt(3)*sqrt(pi)*C1*sqrt(2 - 3*pi)/(-6*pi + 4 + 9*pi**2) + 2*C2/(-6*pi + 4 + 9*pi**2) - sqrt(3)*sqrt(pi)*C2*sqrt(2 - 3*pi)/(-6*pi + 4 + 9*pi**2) + sqrt(3)*sqrt(pi)*C2*sqrt(2 - 3*pi)/(-6*pi*exp(2)*exp(sqrt(3)*sqrt(pi)*sqrt(2 - 3*pi)) + 4*exp(2)*exp(sqrt(3)*sqrt(pi)*sqrt(2 - 3*pi)) + 9*pi**2*exp(2)*exp(sqrt(3)*sqrt(pi)*sqrt(2 - 3*pi))) - 2*C2/(-6*pi*exp(2)*exp(sqrt(3)*sqrt(pi)*sqrt(2 - 3*pi)) + 4*exp(2)*exp(sqrt(3)*sqrt(pi)*sqrt(2 - 3*pi)) + 9*pi**2*exp(2)*exp(sqrt(3)*sqrt(pi)*sqrt(2 - 3*pi)))) + (C1*exp(x*(-1 + sqrt(-4*pi**2 + 4*pi))) + C2*exp(-x*(1 + sqrt(-4*pi**2 + 4*pi))))*(C1/(-2*pi + 2 + 2*pi**2) - sqrt(pi)*C1*sqrt(1 - pi)*exp(4*sqrt(pi)*sqrt(1 - pi))/(2*pi**2*exp(2)*exp(2*sqrt(pi)*sqrt(1 - pi)) + 2*exp(2)*exp(2*sqrt(pi)*sqrt(1 - pi)) - 2*pi*exp(2)*exp(2*sqrt(pi)*sqrt(1 - pi))) - C1*exp(4*sqrt(pi)*sqrt(1 - pi))/(2*pi**2*exp(2)*exp(2*sqrt(pi)*sqrt(1 - pi)) + 2*exp(2)*exp(2*sqrt(pi)*sqrt(1 - pi)) - 2*pi*exp(2)*exp(2*sqrt(pi)*sqrt(1 - pi))) + sqrt(pi)*C1*sqrt(1 - pi)/(-2*pi + 2 + 2*pi**2) + C2/(-2*pi + 2 + 2*pi**2) - sqrt(pi)*C2*sqrt(1 - pi)/(-2*pi + 2 + 2*pi**2) - C2/(2*pi**2*exp(2)*exp(2*sqrt(pi)*sqrt(1 - pi)) + 2*exp(2)*exp(2*sqrt(pi)*sqrt(1 - pi)) - 2*pi*exp(2)*exp(2*sqrt(pi)*sqrt(1 - pi))) + sqrt(pi)*C2*sqrt(1 - pi)/(2*pi**2*exp(2)*exp(2*sqrt(pi)*sqrt(1 - pi)) + 2*exp(2)*exp(2*sqrt(pi)*sqrt(1 - pi)) - 2*pi*exp(2)*exp(2*sqrt(pi)*sqrt(1 - pi)))) + (C1*exp(x*(-1 + sqrt(-pi**2 + 2*pi))) + C2*exp(-x*(1 + sqrt(-pi**2 + 2*pi))))*(2*C1/(-2*pi + 4 + pi**2) - 2*C1*exp(2*sqrt(pi)*sqrt(2 - pi))/(-2*pi*exp(2)*exp(sqrt(pi)*sqrt(2 - pi)) + 4*exp(2)*exp(sqrt(pi)*sqrt(2 - pi)) + pi**2*exp(2)*exp(sqrt(pi)*sqrt(2 - pi))) - sqrt(pi)*C1*sqrt(2 - pi)*exp(2*sqrt(pi)*sqrt(2 - pi))/(-2*pi*exp(2)*exp(sqrt(pi)*sqrt(2 - pi)) + 4*exp(2)*exp(sqrt(pi)*sqrt(2 - pi)) + pi**2*exp(2)*exp(sqrt(pi)*sqrt(2 - pi))) + sqrt(pi)*C1*sqrt(2 - pi)/(-2*pi + 4 + pi**2) + 2*C2/(-2*pi + 4 + pi**2) - sqrt(pi)*C2*sqrt(2 - pi)/(-2*pi + 4 + pi**2) + sqrt(pi)*C2*sqrt(2 - pi)/(-2*pi*exp(2)*exp(sqrt(pi)*sqrt(2 - pi)) + 4*exp(2)*exp(sqrt(pi)*sqrt(2 - pi)) + pi**2*exp(2)*exp(sqrt(pi)*sqrt(2 - pi))) - 2*C2/(-2*pi*exp(2)*exp(sqrt(pi)*sqrt(2 - pi)) + 4*exp(2)*exp(sqrt(pi)*sqrt(2 - pi)) + pi**2*exp(2)*exp(sqrt(pi)*sqrt(2 - pi))))\n"
          ]
        }
      ]
    }
  ]
}