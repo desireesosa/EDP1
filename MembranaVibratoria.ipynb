{
  "nbformat": 4,
  "nbformat_minor": 0,
  "metadata": {
    "colab": {
      "provenance": [],
      "authorship_tag": "ABX9TyOmb3GGsibHs6vpc9IWFjT2",
      "include_colab_link": true
    },
    "kernelspec": {
      "name": "python3",
      "display_name": "Python 3"
    },
    "language_info": {
      "name": "python"
    }
  },
  "cells": [
    {
      "cell_type": "markdown",
      "metadata": {
        "id": "view-in-github",
        "colab_type": "text"
      },
      "source": [
        "<a href=\"https://colab.research.google.com/github/desireesosa/EDP1/blob/main/MembranaVibratoria.ipynb\" target=\"_parent\"><img src=\"https://colab.research.google.com/assets/colab-badge.svg\" alt=\"Open In Colab\"/></a>"
      ]
    },
    {
      "cell_type": "markdown",
      "source": [
        "**Membrana Vibratoria** \\\n",
        "*Elaborar la solucion completa general de la ecuacion de onda bidimensional aobre un rectangulo en el plano cartesiano.*"
      ],
      "metadata": {
        "id": "CExoucbgj25T"
      }
    },
    {
      "cell_type": "code",
      "source": [],
      "metadata": {
        "id": "uCAoimf7lSyd"
      },
      "execution_count": null,
      "outputs": []
    }
  ]
}